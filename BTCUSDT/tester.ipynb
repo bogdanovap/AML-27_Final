{
 "cells": [
  {
   "cell_type": "code",
   "execution_count": 2,
   "metadata": {
    "collapsed": true
   },
   "outputs": [
    {
     "name": "stdout",
     "output_type": "stream",
     "text": [
      "Seed was: 736870\n"
     ]
    }
   ],
   "source": [
    "from main_DQL import *\n",
    "from TradingEnv import Trading"
   ]
  },
  {
   "cell_type": "code",
   "execution_count": 5,
   "outputs": [
    {
     "name": "stderr",
     "output_type": "stream",
     "text": [
      "2023-02-17 14:14:40.024935: I tensorflow/compiler/xla/stream_executor/cuda/cuda_gpu_executor.cc:967] could not open file to read NUMA node: /sys/bus/pci/devices/0000:82:00.0/numa_node\n",
      "Your kernel may have been built without NUMA support.\n",
      "2023-02-17 14:14:40.170683: I tensorflow/compiler/xla/stream_executor/cuda/cuda_gpu_executor.cc:967] could not open file to read NUMA node: /sys/bus/pci/devices/0000:82:00.0/numa_node\n",
      "Your kernel may have been built without NUMA support.\n",
      "2023-02-17 14:14:40.170777: I tensorflow/compiler/xla/stream_executor/cuda/cuda_gpu_executor.cc:967] could not open file to read NUMA node: /sys/bus/pci/devices/0000:82:00.0/numa_node\n",
      "Your kernel may have been built without NUMA support.\n"
     ]
    },
    {
     "data": {
      "text/plain": "[PhysicalDevice(name='/physical_device:CPU:0', device_type='CPU'),\n PhysicalDevice(name='/physical_device:GPU:0', device_type='GPU')]"
     },
     "execution_count": 5,
     "metadata": {},
     "output_type": "execute_result"
    }
   ],
   "source": [
    "# tf.config.list_physical_devices()"
   ],
   "metadata": {
    "collapsed": false
   }
  },
  {
   "cell_type": "code",
   "execution_count": 3,
   "outputs": [],
   "source": [
    "# import os\n",
    "# os.environ['CUDA_VISIBLE_DEVICES'] = '0'"
   ],
   "metadata": {
    "collapsed": false
   }
  },
  {
   "cell_type": "code",
   "execution_count": 7,
   "outputs": [
    {
     "name": "stderr",
     "output_type": "stream",
     "text": [
      "F:\\Work\\Binance\\Actor-Critic\\TradingEnv.py:34: FutureWarning: In a future version of pandas all arguments of read_csv except for the argument 'filepath_or_buffer' will be keyword-only.\n",
      "  ds = pd.read_csv(\n"
     ]
    }
   ],
   "source": [
    "# os.environ['CUDA_VISIBLE_DEVICES'] = '0'\n",
    "env = Trading(\"bn_BTCUSDT\")\n",
    "env.cost_of_non_pos=0.00"
   ],
   "metadata": {
    "collapsed": false
   }
  },
  {
   "cell_type": "code",
   "execution_count": 8,
   "outputs": [
    {
     "name": "stderr",
     "output_type": "stream",
     "text": [
      "F:\\Work\\Binance\\Actor-Critic\\venv\\Lib\\site-packages\\keras\\initializers\\initializers.py:120: UserWarning: The initializer HeNormal is unseeded and being called multiple times, which will return identical values each time (even if the initializer is unseeded). Please update your code to provide a seed to the initializer, or avoid using the same initalizer instance more than once.\n",
      "  warnings.warn(\n"
     ]
    }
   ],
   "source": [
    "qmodel = QModel(_history_1=5, _vector_1=17, _history_2=5, _vector_2=17)\n",
    "env.data_length_1 = qmodel.history_1 * qmodel.vector_1\n",
    "model = qmodel.create_q_model()\n",
    "model_name = \"bn_BTCUSDT_bb22_1D-5_sl5p_maxdd30 old formula_2lstm3dense100n_dropout 0.1_lr0025_softmax_profit\"\n",
    "# model = load_model_from_file(model, f\"best_test_{model_name}\")\n",
    "# model = load_model_from_file(model, f\"best_revenue_{model_name}\")\n",
    "model = load_model_from_file(model, f\"best_risk_{model_name}\")"
   ],
   "metadata": {
    "collapsed": false
   }
  },
  {
   "cell_type": "code",
   "execution_count": 6,
   "outputs": [
    {
     "name": "stdout",
     "output_type": "stream",
     "text": [
      "train score: 12.76 | test score: 0.67 | dd: 0.22 | test risk: 3.07\n",
      "train score: 21.60 | test score: 0.91 | dd: 0.34 | test risk: 2.69\n",
      "train score: 27.12 | test score: 1.14 | dd: 0.28 | test risk: 4.13\n",
      "train score: 30.54 | test score: 1.34 | dd: 0.20 | test risk: 6.79\n",
      "train score: 33.54 | test score: 1.25 | dd: 0.23 | test risk: 5.50\n",
      "train score: 33.56 | test score: 1.30 | dd: 0.25 | test risk: 5.24\n",
      "train score: 33.97 | test score: 1.18 | dd: 0.28 | test risk: 4.13\n",
      "train score: 34.09 | test score: 1.19 | dd: 0.29 | test risk: 4.08\n",
      "train score: 34.38 | test score: 1.12 | dd: 0.32 | test risk: 3.48\n"
     ]
    }
   ],
   "source": [
    "for i in range(1,10):\n",
    "    env.stoploss = i/100\n",
    "    backtest(env, model, 0, 1500, 1500, 500)"
   ],
   "metadata": {
    "collapsed": false
   }
  },
  {
   "cell_type": "code",
   "execution_count": 9,
   "outputs": [
    {
     "name": "stdout",
     "output_type": "stream",
     "text": [
      "train score: 30.63 | test score: 1.18 | dd: 0.22 | test risk: 5.34\n"
     ]
    }
   ],
   "source": [
    "env.stoploss = 0.04\n",
    "env.cost_of_non_pos=0.00\n",
    "backtest(env, model, 0, 1500, 1500, 500)"
   ],
   "metadata": {
    "collapsed": false
   }
  },
  {
   "cell_type": "code",
   "execution_count": 6,
   "outputs": [],
   "source": [
    "model.save_weights(\"bn_BTCUSDT\")"
   ],
   "metadata": {
    "collapsed": false
   }
  },
  {
   "cell_type": "code",
   "execution_count": 6,
   "outputs": [
    {
     "name": "stderr",
     "output_type": "stream",
     "text": [
      "2023-02-19 10:05:34.020714: I tensorflow/compiler/xla/stream_executor/cuda/cuda_gpu_executor.cc:967] could not open file to read NUMA node: /sys/bus/pci/devices/0000:82:00.0/numa_node\n",
      "Your kernel may have been built without NUMA support.\n",
      "2023-02-19 10:05:34.020891: I tensorflow/compiler/xla/stream_executor/cuda/cuda_gpu_executor.cc:967] could not open file to read NUMA node: /sys/bus/pci/devices/0000:82:00.0/numa_node\n",
      "Your kernel may have been built without NUMA support.\n",
      "2023-02-19 10:05:34.020979: I tensorflow/compiler/xla/stream_executor/cuda/cuda_gpu_executor.cc:967] could not open file to read NUMA node: /sys/bus/pci/devices/0000:82:00.0/numa_node\n",
      "Your kernel may have been built without NUMA support.\n",
      "2023-02-19 10:05:34.021486: I tensorflow/compiler/xla/stream_executor/cuda/cuda_gpu_executor.cc:967] could not open file to read NUMA node: /sys/bus/pci/devices/0000:82:00.0/numa_node\n",
      "Your kernel may have been built without NUMA support.\n",
      "2023-02-19 10:05:34.021505: I tensorflow/core/common_runtime/gpu/gpu_device.cc:1700] Could not identify NUMA node of platform GPU id 0, defaulting to 0.  Your kernel may not have been built with NUMA support.\n",
      "2023-02-19 10:05:34.021581: I tensorflow/compiler/xla/stream_executor/cuda/cuda_gpu_executor.cc:967] could not open file to read NUMA node: /sys/bus/pci/devices/0000:82:00.0/numa_node\n",
      "Your kernel may have been built without NUMA support.\n",
      "2023-02-19 10:05:34.021610: I tensorflow/core/common_runtime/gpu/gpu_device.cc:1613] Created device /device:GPU:0 with 5424 MB memory:  -> device: 0, name: NVIDIA GeForce RTX 3060 Ti, pci bus id: 0000:82:00.0, compute capability: 8.6\n",
      "/home/aleks/miniconda3/envs/tf/lib/python3.10/site-packages/model_profiler/profiler.py:72: VisibleDeprecationWarning: Creating an ndarray from ragged nested sequences (which is a list-or-tuple of lists-or-tuples-or ndarrays with different lengths or shapes) is deprecated. If you meant to do this, you must specify 'dtype=object' when creating the ndarray.\n",
      "  np.asarray(values).reshape(-1,1),\n"
     ]
    }
   ],
   "source": [
    "from model_profiler import model_profiler\n",
    "profile = model_profiler(model, 1800)"
   ],
   "metadata": {
    "collapsed": false
   }
  },
  {
   "cell_type": "code",
   "execution_count": 16,
   "outputs": [
    {
     "name": "stdout",
     "output_type": "stream",
     "text": [
      "| Model Profile                    | Value   | Unit    |\n",
      "|----------------------------------|---------|---------|\n",
      "| Selected GPUs                    | ['0']   | GPU IDs |\n",
      "| No. of FLOPs                     | 0.0     | BFLOPs  |\n",
      "| GPU Memory Requirement           | 0.3639  | GB      |\n",
      "| Model Parameters                 | 0.5968  | Million |\n",
      "| Memory Required by Model Weights | 2.2766  | MB      |\n"
     ]
    }
   ],
   "source": [
    "print(profile)"
   ],
   "metadata": {
    "collapsed": false
   }
  },
  {
   "cell_type": "code",
   "execution_count": null,
   "outputs": [],
   "source": [],
   "metadata": {
    "collapsed": false
   }
  }
 ],
 "metadata": {
  "kernelspec": {
   "display_name": "Python 3",
   "language": "python",
   "name": "python3"
  },
  "language_info": {
   "codemirror_mode": {
    "name": "ipython",
    "version": 2
   },
   "file_extension": ".py",
   "mimetype": "text/x-python",
   "name": "python",
   "nbconvert_exporter": "python",
   "pygments_lexer": "ipython2",
   "version": "2.7.6"
  }
 },
 "nbformat": 4,
 "nbformat_minor": 0
}
